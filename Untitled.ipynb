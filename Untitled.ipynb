{
 "cells": [
  {
   "cell_type": "code",
   "execution_count": 14,
   "id": "faf23ac5",
   "metadata": {
    "tags": []
   },
   "outputs": [
    {
     "name": "stdout",
     "output_type": "stream",
     "text": [
      "                  Game Code       DATE TIME (ET)               AWAY TEAM  \\\n",
      "0  2024-10-04-NBA-BOS-DEN-1  10/4/2024  12:00 PM          Boston Celtics   \n",
      "1  2024-10-04-NBA-NZB-UTA-1  10/4/2024   9:00 PM    New Zealand Breakers   \n",
      "2  2024-10-04-NBA-MIN-LAL-1  10/4/2024  10:30 PM  Minnesota Timberwolves   \n",
      "3  2024-10-05-NBA-GSW-LAC-1  10/5/2024   7:00 PM   Golden State Warriors   \n",
      "4  2024-10-06-NBA-DEN-BOS-1  10/6/2024  10:00 AM          Denver Nuggets   \n",
      "\n",
      "              HOME TEAM              AWAY TV             HOME TV NATIONAL TV  \\\n",
      "0        Denver Nuggets    NBC Sports Boston                 NaN      NBA TV   \n",
      "1             Utah Jazz                  NaN                KJZZ         NaN   \n",
      "2    Los Angeles Lakers                  NaN  Spectrum SportsNet      NBA TV   \n",
      "3  Los Angeles Clippers  NBC Sports Bay Area                KTLA      NBA TV   \n",
      "4        Boston Celtics                  NaN   NBC Sports Boston      NBA TV   \n",
      "\n",
      "  Notes Sponsor United  ... Hankook (LED Arm) Hankook (Virtual On-Court)  \\\n",
      "0   NaN            NaN  ...               NaN                        NaN   \n",
      "1   NaN            NaN  ...           Hankook                        NaN   \n",
      "2   NaN            NaN  ...               NaN                        NaN   \n",
      "3   NaN            NaN  ...               NaN                        NaN   \n",
      "4   NaN            NaN  ...               NaN                        NaN   \n",
      "\n",
      "  Express Pros (LED Courtside) Express Pros (LED Arm)  \\\n",
      "0                          NaN                    NaN   \n",
      "1                          NaN                    NaN   \n",
      "2                          NaN                    NaN   \n",
      "3                          NaN                    NaN   \n",
      "4                          NaN                    NaN   \n",
      "\n",
      "  Globe Life (LED Courtside) Globe Life (LED Arm) Progressive (LED Courtside)  \\\n",
      "0                        NaN                  NaN                         NaN   \n",
      "1                        NaN                  NaN                         NaN   \n",
      "2                        NaN                  NaN                         NaN   \n",
      "3                        NaN                  NaN                         NaN   \n",
      "4                        NaN                  NaN                         NaN   \n",
      "\n",
      "  Progressive (LED Arm) Progressive (Virtual On-Court) Progressive (Vomitory)  \n",
      "0                   NaN                            NaN                    NaN  \n",
      "1                   NaN                            NaN                    NaN  \n",
      "2                   NaN                            NaN                    NaN  \n",
      "3                   NaN                            NaN                    NaN  \n",
      "4                   NaN                            NaN                    NaN  \n",
      "\n",
      "[5 rows x 33 columns]\n"
     ]
    }
   ],
   "source": [
    "import pandas as pd\n",
    "\n",
    "# Specify the file pat\n",
    "file_path = \"C:/Users/user/Downloads/Untitled spreadsheet - NBA VWSE 2024.csv\"\n",
    "\n",
    "# Load the CSV file into a Pandas DataFrame\n",
    "data = pd.read_csv(file_path)\n",
    "\n",
    "# Display the first few rows of the dataset\n",
    "print(data.head())"
   ]
  },
  {
   "cell_type": "code",
   "execution_count": 16,
   "id": "4d158802",
   "metadata": {
    "tags": []
   },
   "outputs": [
    {
     "name": "stdout",
     "output_type": "stream",
     "text": [
      "['Game Code', 'DATE', 'TIME (ET)', 'AWAY TEAM', 'HOME TEAM', 'AWAY TV', 'HOME TV', 'NATIONAL TV', 'Notes', 'Sponsor United', 'DOVA (LED Courtside)', 'DOVA (LED Arm)', 'Nexen Tire (LED Courtisde)', 'Nexen Tire (LED Arm)', 'Door Dash (LED Courtside)', 'Door Dash (LED Arm)', 'Skechers (LED Courtside)', 'Skechers (LED Arm)', 'NHTSA (LED Courtside)', 'NHTSA (LED Arm)', 'Atturo Tires (LED Courtside)', 'Atturo Tires (LED Arm)', 'Hankook (Courtside)', 'Hankook (LED Arm)', 'Hankook (Virtual On-Court)', 'Express Pros (LED Courtside)', 'Express Pros (LED Arm)', 'Globe Life (LED Courtside)', 'Globe Life (LED Arm)', 'Progressive (LED Courtside)', 'Progressive (LED Arm)', 'Progressive (Virtual On-Court)', 'Progressive (Vomitory)']\n"
     ]
    }
   ],
   "source": [
    "print(data.columns.tolist())"
   ]
  },
  {
   "cell_type": "code",
   "execution_count": null,
   "id": "68083c7b-a3ab-474a-a1ff-8ea5dd77ce96",
   "metadata": {},
   "outputs": [],
   "source": []
  }
 ],
 "metadata": {
  "kernelspec": {
   "display_name": "Python 3 (ipykernel)",
   "language": "python",
   "name": "python3"
  },
  "language_info": {
   "codemirror_mode": {
    "name": "ipython",
    "version": 3
   },
   "file_extension": ".py",
   "mimetype": "text/x-python",
   "name": "python",
   "nbconvert_exporter": "python",
   "pygments_lexer": "ipython3",
   "version": "3.11.5"
  }
 },
 "nbformat": 4,
 "nbformat_minor": 5
}
